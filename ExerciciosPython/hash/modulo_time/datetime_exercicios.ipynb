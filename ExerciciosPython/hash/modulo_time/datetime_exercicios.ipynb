{
 "cells": [
  {
   "cell_type": "markdown",
   "metadata": {},
   "source": [
    "## Oferecendo desconto para cliente com base na última compra\n",
    "\n",
    "Suponha que você está trabalhando para uma empresa que deseja rastrear a atividade do cliente. Uma métrica que eles estão interessados é o tempo que passou desde a última transação do cliente. Se for muito tempo, eles podem oferecer um desconto para o cliente. Crie um script Python que mostra quanto tempo se passou desde a última compra do cliente. Se faz mais de 30 dias, mostre uma mensagem oferecendo um desconto para o cliente."
   ]
  },
  {
   "cell_type": "code",
   "execution_count": 58,
   "metadata": {},
   "outputs": [
    {
     "name": "stdout",
     "output_type": "stream",
     "text": [
      "Diferença de dias:170\n",
      "Vc ganhou um desconto!\n"
     ]
    }
   ],
   "source": [
    "from datetime import datetime \n",
    "from datetime import timedelta\n",
    "\n",
    "diaCompra = datetime(2023,5,10)\n",
    "agora = datetime.today()\n",
    "deltaTempo = agora - diaCompra\n",
    "print(f\"Diferença de dias:{deltaTempo.days}\")\n",
    "print(\"Vc ganhou um desconto!\") if deltaTempo.days > 30 else print(\"Volte Sempre\")\n",
    "\n"
   ]
  },
  {
   "cell_type": "code",
   "execution_count": 59,
   "metadata": {},
   "outputs": [
    {
     "name": "stdout",
     "output_type": "stream",
     "text": [
      "Sem descontos dessa vez\n"
     ]
    }
   ],
   "source": [
    "from datetime import datetime\n",
    "import locale \n",
    "locale.setlocale(locale.LC_TIME,\"pt_BR.utf8\")\n",
    "\n",
    "ultima_compra = \"10/05/2023\"\n",
    "formato_ultima_compra = \"%d/%m/%Y\"\n",
    "ultima_compra = datetime.strptime(ultima_compra,formato_ultima_compra)\n",
    "tempo_ultima_compra = datetime.today() - ultima_compra\n",
    "print(\"Voce ganhou um desconto\") if tempo_ultima_compra.days-150 > 30 else print(\"Sem descontos dessa vez\")\n"
   ]
  },
  {
   "cell_type": "markdown",
   "metadata": {},
   "source": [
    "## Data e hora em diferentes fusos horários\n",
    "\n",
    "Uma empresa tem escritórios em São Paulo, Nova York e Tóquio. Crie um script Python que mostra a data e hora atuais nesses três fusos horários. Exiba, também, se estes escritórios estão abertos ou fechados (9h às 17h).\n"
   ]
  },
  {
   "cell_type": "code",
   "execution_count": 60,
   "metadata": {},
   "outputs": [],
   "source": [
    "from datetime import datetime \n",
    "from zoneinfo import ZoneInfo\n",
    "\n",
    "# Primeiro passo, localizar a hora atual na sua regiao \n",
    "\n",
    "agora = datetime.now()\n"
   ]
  },
  {
   "cell_type": "code",
   "execution_count": 61,
   "metadata": {},
   "outputs": [],
   "source": [
    "\n",
    "# Segundo passo, pegar o fuso horario de todas as regiões desejadas\n",
    "\n",
    "fuso_sp = ZoneInfo(\"America/Sao_Paulo\")\n",
    "fuso_nyc = ZoneInfo(\"America/New_York\")\n",
    "fuso_tokyo =  ZoneInfo(\"Asia/Tokyo\")\n"
   ]
  },
  {
   "cell_type": "code",
   "execution_count": 63,
   "metadata": {},
   "outputs": [
    {
     "name": "stdout",
     "output_type": "stream",
     "text": [
      "Horário atual em SP:2023-10-27 15:53:26.013921-03:00\n",
      "Horário atual em NYC:2023-10-27 14:53:26.013921-04:00\n",
      "Horário atual em TOKYO:2023-10-28 03:53:26.013921+09:00\n"
     ]
    }
   ],
   "source": [
    "\n",
    "#3° passo usar a função astimezone para converter o horario atual para o fuso desejo\n",
    "hora_sp = agora.astimezone(fuso_sp)\n",
    "hora_nyc = agora.astimezone(fuso_nyc)\n",
    "hora_tokyo = agora.astimezone(fuso_tokyo)\n",
    "print(f\"Horário atual em SP:{hora_sp}\")\n",
    "print(f\"Horário atual em NYC:{hora_nyc}\")\n",
    "print(f\"Horário atual em TOKYO:{hora_tokyo}\")\n"
   ]
  },
  {
   "cell_type": "code",
   "execution_count": 64,
   "metadata": {},
   "outputs": [],
   "source": [
    "# 4° Passo, verificar se o estabelecimento está aberto (9-17hrs)\n",
    "\n",
    "def verifica_horario_comercial(datetime):\n",
    "    if 9 <= datetime.hour < 17:\n",
    "        print(\"Aberto\")\n",
    "    else:\n",
    "        print(\"Fechado\")"
   ]
  },
  {
   "cell_type": "code",
   "execution_count": 65,
   "metadata": {},
   "outputs": [
    {
     "name": "stdout",
     "output_type": "stream",
     "text": [
      "Aberto\n",
      "Aberto\n",
      "Fechado\n"
     ]
    }
   ],
   "source": [
    "# verificar funcionalidade da função criada \n",
    "\n",
    "verifica_horario_comercial(hora_sp)\n",
    "verifica_horario_comercial(hora_nyc)\n",
    "verifica_horario_comercial(hora_tokyo)"
   ]
  }
 ],
 "metadata": {
  "kernelspec": {
   "display_name": "Python 3 (ipykernel)",
   "language": "python",
   "name": "python3"
  },
  "language_info": {
   "codemirror_mode": {
    "name": "ipython",
    "version": 3
   },
   "file_extension": ".py",
   "mimetype": "text/x-python",
   "name": "python",
   "nbconvert_exporter": "python",
   "pygments_lexer": "ipython3",
   "version": "3.11.3"
  }
 },
 "nbformat": 4,
 "nbformat_minor": 4
}
