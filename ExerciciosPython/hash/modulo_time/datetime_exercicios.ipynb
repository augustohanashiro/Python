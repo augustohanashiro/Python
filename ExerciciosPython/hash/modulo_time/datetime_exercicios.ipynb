{
 "cells": [
  {
   "cell_type": "markdown",
   "metadata": {},
   "source": [
    "## Oferecendo desconto para cliente com base na última compra\n",
    "\n",
    "Suponha que você está trabalhando para uma empresa que deseja rastrear a atividade do cliente. Uma métrica que eles estão interessados é o tempo que passou desde a última transação do cliente. Se for muito tempo, eles podem oferecer um desconto para o cliente. Crie um script Python que mostra quanto tempo se passou desde a última compra do cliente. Se faz mais de 30 dias, mostre uma mensagem oferecendo um desconto para o cliente."
   ]
  },
  {
   "cell_type": "code",
   "execution_count": 50,
   "metadata": {},
   "outputs": [
    {
     "name": "stdout",
     "output_type": "stream",
     "text": [
      "Diferença de dias:170\n",
      "Vc ganhou um desconto!\n"
     ]
    }
   ],
   "source": [
    "from datetime import datetime \n",
    "from datetime import timedelta\n",
    "\n",
    "diaCompra = datetime(2023,5,10)\n",
    "agora = datetime.today()\n",
    "deltaTempo = agora - diaCompra\n",
    "print(f\"Diferença de dias:{deltaTempo.days}\")\n",
    "print(\"Vc ganhou um desconto!\") if deltaTempo.days > 30 else print(\"Volte Sempre\")\n",
    "\n"
   ]
  },
  {
   "cell_type": "code",
   "execution_count": 35,
   "metadata": {},
   "outputs": [
    {
     "name": "stdout",
     "output_type": "stream",
     "text": [
      "Sem descontos dessa vez\n"
     ]
    }
   ],
   "source": [
    "from datetime import datetime\n",
    "import locale \n",
    "locale.setlocale(locale.LC_TIME,\"pt_BR.utf8\")\n",
    "\n",
    "ultima_compra = \"10/05/2023\"\n",
    "formato_ultima_compra = \"%d/%m/%Y\"\n",
    "ultima_compra = datetime.strptime(ultima_compra,formato_ultima_compra)\n",
    "tempo_ultima_compra = datetime.today() - ultima_compra\n",
    "print(\"Voce ganhou um desconto\") if tempo_ultima_compra.days-150 > 30 else print(\"Sem descontos dessa vez\")\n"
   ]
  },
  {
   "cell_type": "markdown",
   "metadata": {},
   "source": [
    "## Data e hora em diferentes fusos horários\n",
    "\n",
    "Uma empresa tem escritórios em São Paulo, Nova York e Tóquio. Crie um script Python que mostra a data e hora atuais nesses três fusos horários. Exiba, também, se estes escritórios estão abertos ou fechados (9h às 17h).\n"
   ]
  },
  {
   "cell_type": "code",
   "execution_count": 56,
   "metadata": {},
   "outputs": [
    {
     "name": "stdout",
     "output_type": "stream",
     "text": [
      "Horário atual em SP:15:50:29.976065\n",
      "Horário atual em NYC:2023-10-27 14:50:29.976065-04:00\n",
      "Horário atual em TOKYO:2023-10-28 03:50:29.976065+09:00\n"
     ]
    }
   ],
   "source": [
    "from datetime import datetime \n",
    "from zoneinfo import ZoneInfo\n",
    "\n",
    "# Primeiro passo, localizar a hora atual na sua regiao \n",
    "\n",
    "agora = datetime.now()\n",
    "\n",
    "# Segundo passo, pegar o fuso horario de todas as regiões desejadas\n",
    "\n",
    "fuso_sp = ZoneInfo(\"America/Sao_Paulo\")\n",
    "fuso_nyc = ZoneInfo(\"America/New_York\")\n",
    "fuso_tokyo =  ZoneInfo(\"Asia/Tokyo\")\n",
    "\n",
    "# usar a função astimezone para converter o horario atual para o fuso desejo\n",
    "\n",
    "print(f\"Horário atual em SP:{agora.astimezone(fuso_sp).date()}\")\n",
    "print(f\"Horário atual em NYC:{agora.astimezone(fuso_nyc)}\")\n",
    "print(f\"Horário atual em TOKYO:{agora.astimezone(fuso_tokyo)}\")\n"
   ]
  }
 ],
 "metadata": {
  "kernelspec": {
   "display_name": "Python 3 (ipykernel)",
   "language": "python",
   "name": "python3"
  },
  "language_info": {
   "codemirror_mode": {
    "name": "ipython",
    "version": 3
   },
   "file_extension": ".py",
   "mimetype": "text/x-python",
   "name": "python",
   "nbconvert_exporter": "python",
   "pygments_lexer": "ipython3",
   "version": "3.11.3"
  }
 },
 "nbformat": 4,
 "nbformat_minor": 4
}
