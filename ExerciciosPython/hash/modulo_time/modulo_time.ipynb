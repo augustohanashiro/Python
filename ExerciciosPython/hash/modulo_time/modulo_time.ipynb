{
 "cells": [
  {
   "cell_type": "markdown",
   "metadata": {},
   "source": [
    "Modulo time <br>\n",
    "Biblioteca:https://docs.python.org/3/library/time.html <br>\n",
    "time.time()\n"
   ]
  },
  {
   "cell_type": "code",
   "execution_count": 11,
   "metadata": {},
   "outputs": [
    {
     "name": "stdout",
     "output_type": "stream",
     "text": [
      "O procedimento durtou 5.067323684692383 segundos\n"
     ]
    }
   ],
   "source": [
    "import time\n",
    "# Função importante para marcação de tempo para cronometragem de desempenho\n",
    "inicio = time.time()\n",
    "for _ in range(100_000_000): #100000000 o \"_\" serve para separar milhar em numeros inteiros\n",
    "    pass\n",
    "fim = time.time()\n",
    "print(f\"O procedimento durtou {fim - inicio} segundos\")"
   ]
  },
  {
   "cell_type": "markdown",
   "metadata": {},
   "source": [
    "time.sleep(segundos)"
   ]
  },
  {
   "cell_type": "code",
   "execution_count": 10,
   "metadata": {},
   "outputs": [
    {
     "name": "stdout",
     "output_type": "stream",
     "text": [
      "Inicio da pausa\n",
      "Termino do sleep\n"
     ]
    }
   ],
   "source": [
    "# Faz o programa esperar um tempo\n",
    "print(\"Inicio da pausa\")\n",
    "esperar = time.sleep(5)# Em segundos \n",
    "print(\"Termino do sleep\")\n"
   ]
  },
  {
   "cell_type": "markdown",
   "metadata": {},
   "source": [
    "time.ctime(recebe um time )<br>\n",
    "Mostra as informações de tempo mais do nosso cotidiano"
   ]
  },
  {
   "cell_type": "code",
   "execution_count": 12,
   "metadata": {},
   "outputs": [
    {
     "name": "stdout",
     "output_type": "stream",
     "text": [
      "Wed Oct 25 13:56:54 2023\n"
     ]
    }
   ],
   "source": [
    "tempo = time.time()\n",
    "tempo_familiar = time.ctime(tempo)\n",
    "print(tempo_familiar)"
   ]
  },
  {
   "cell_type": "markdown",
   "metadata": {},
   "source": [
    "time.localtime()<br>\n",
    "Fornecera uma estrutura que como a de cima,mas podemos acessar seus indices"
   ]
  },
  {
   "cell_type": "code",
   "execution_count": 16,
   "metadata": {},
   "outputs": [
    {
     "name": "stdout",
     "output_type": "stream",
     "text": [
      "time.struct_time(tm_year=2023, tm_mon=10, tm_mday=25, tm_hour=14, tm_min=11, tm_sec=6, tm_wday=2, tm_yday=298, tm_isdst=0)\n",
      "Ano: 2023\n"
     ]
    }
   ],
   "source": [
    "tempo = time.localtime()\n",
    "print(tempo)\n",
    "print(\"Ano: {}\".format(tempo.tm_year))"
   ]
  },
  {
   "cell_type": "markdown",
   "metadata": {},
   "source": []
  }
 ],
 "metadata": {
  "kernelspec": {
   "display_name": "Python 3",
   "language": "python",
   "name": "python3"
  },
  "language_info": {
   "codemirror_mode": {
    "name": "ipython",
    "version": 3
   },
   "file_extension": ".py",
   "mimetype": "text/x-python",
   "name": "python",
   "nbconvert_exporter": "python",
   "pygments_lexer": "ipython3",
   "version": "3.11.3"
  }
 },
 "nbformat": 4,
 "nbformat_minor": 2
}
