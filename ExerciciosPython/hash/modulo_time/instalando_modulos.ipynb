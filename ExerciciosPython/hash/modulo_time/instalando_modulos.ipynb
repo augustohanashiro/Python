{
 "cells": [
  {
   "cell_type": "code",
   "execution_count": 13,
   "metadata": {},
   "outputs": [],
   "source": [
    "import keyboard\n",
    "import time \n",
    "keyboard.press_and_release(\"win\")\n",
    "time.sleep(0.2)\n",
    "keyboard.write(\"Chrome\")\n",
    "time.sleep(.2)\n",
    "keyboard.press_and_release(\"enter\")\n",
    "time.sleep(.5)\n",
    "keyboard.write(\"youtube.com/watch?v=EXb0wBzMZ58\")\n",
    "keyboard.press_and_release(\"enter\")\n",
    "\n"
   ]
  }
 ],
 "metadata": {
  "kernelspec": {
   "display_name": "Python 3",
   "language": "python",
   "name": "python3"
  },
  "language_info": {
   "codemirror_mode": {
    "name": "ipython",
    "version": 3
   },
   "file_extension": ".py",
   "mimetype": "text/x-python",
   "name": "python",
   "nbconvert_exporter": "python",
   "pygments_lexer": "ipython3",
   "version": "3.11.3"
  }
 },
 "nbformat": 4,
 "nbformat_minor": 2
}
