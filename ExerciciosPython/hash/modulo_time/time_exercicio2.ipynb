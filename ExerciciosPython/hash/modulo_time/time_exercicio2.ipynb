{
 "cells": [
  {
   "cell_type": "markdown",
   "metadata": {},
   "source": [
    "## Tempo até o próximo ano\n",
    "\n",
    "Crie um script Python que calcula quantos dias, horas, minutos e segundos faltam até o próximo Ano Novo.\n",
    "\n"
   ]
  },
  {
   "cell_type": "markdown",
   "metadata": {
    "tags": []
   },
   "source": [
    "Lembrar da tupla de struct_time: https://docs.python.org/3/library/time.html#time.struct_time"
   ]
  },
  {
   "cell_type": "code",
   "execution_count": 1,
   "metadata": {
    "tags": []
   },
   "outputs": [
    {
     "name": "stdout",
     "output_type": "stream",
     "text": [
      "Segundos em um minuto: 60 s\n",
      "Segundos em uma hora: 3600 s\n",
      "Segundos em um dia: 86400 s\n"
     ]
    }
   ],
   "source": [
    "# lembrando\n",
    "\n",
    "segundos_por_minuto = 60\n",
    "segundos_por_hora = 60 * 60\n",
    "segundos_por_dia = 24 * 60 * 60\n",
    "\n",
    "print(f\"Segundos em um minuto: {segundos_por_minuto} s\")\n",
    "print(f\"Segundos em uma hora: {segundos_por_hora} s\")\n",
    "print(f\"Segundos em um dia: {segundos_por_dia} s\")"
   ]
  },
  {
   "cell_type": "markdown",
   "metadata": {
    "tags": []
   },
   "source": [
    "Lembrando de divisão:\n",
    "\n",
    "![divisao](https://escolaeducacao.com.br/wp-content/uploads/2020/01/algoritmo-divisao.png)"
   ]
  },
  {
   "cell_type": "code",
   "execution_count": 19,
   "metadata": {},
   "outputs": [
    {
     "name": "stdout",
     "output_type": "stream",
     "text": [
      "time.struct_time(tm_year=2023, tm_mon=10, tm_mday=26, tm_hour=15, tm_min=22, tm_sec=15, tm_wday=3, tm_yday=299, tm_isdst=0)\n",
      "Faltam 66 dias, 8 horas, 37 minutos e 45 segundos\n"
     ]
    }
   ],
   "source": [
    "import time\n",
    "\n",
    "agora = time.localtime()\n",
    "print(agora)\n",
    "agora_em_segundos = time.mktime(agora)\n",
    "estrutura = (agora.tm_year+1,1,1,0,0,0,0,0,0)\n",
    "ano_novo_em_segundos = time.mktime(estrutura)\n",
    "diferenca_tempo = int(ano_novo_em_segundos - agora_em_segundos)\n",
    "\n",
    "dias,segundos_restantes = divmod(diferenca_tempo,segundos_por_dia)\n",
    "horas,segundos_restantes = divmod(segundos_restantes,segundos_por_hora)\n",
    "minutos,segundos = divmod(segundos_restantes,segundos_por_minuto)\n",
    "\n",
    "print(\"Faltam {} dias, {} horas, {} minutos e {} segundos\".format(dias,horas,minutos,segundos))"
   ]
  },
  {
   "cell_type": "code",
   "execution_count": 20,
   "metadata": {},
   "outputs": [
    {
     "name": "stdout",
     "output_type": "stream",
     "text": [
      "time.struct_time(tm_year=2023, tm_mon=10, tm_mday=26, tm_hour=15, tm_min=22, tm_sec=56, tm_wday=3, tm_yday=299, tm_isdst=0)\n",
      "5733424\n",
      "Faltam 66 dias, 8 horas, 37 minutos e 4 segundos\n"
     ]
    }
   ],
   "source": [
    "import time \n",
    "\n",
    "agora = time.localtime()\n",
    "print(agora)\n",
    "ano_novo = (agora.tm_year + 1,1,1,0,0,0,0,0,0)\n",
    "ano_novo_seg = time.mktime(ano_novo)\n",
    "tempo_para_ano_novo = int(ano_novo_seg - time.mktime(agora))\n",
    "print(tempo_para_ano_novo)\n",
    "\n",
    "\n",
    "dias, segundos_restantes = divmod(tempo_para_ano_novo,segundos_por_dia)\n",
    "horas,segundos_restantes = divmod(segundos_restantes,segundos_por_hora)\n",
    "minutos, segundos = divmod(segundos_restantes,segundos_por_minuto)\n",
    "print(f\"Faltam {dias} dias, {horas} horas, {minutos} minutos e {segundos} segundos\")"
   ]
  }
 ],
 "metadata": {
  "kernelspec": {
   "display_name": "Python 3 (ipykernel)",
   "language": "python",
   "name": "python3"
  },
  "language_info": {
   "codemirror_mode": {
    "name": "ipython",
    "version": 3
   },
   "file_extension": ".py",
   "mimetype": "text/x-python",
   "name": "python",
   "nbconvert_exporter": "python",
   "pygments_lexer": "ipython3",
   "version": "3.12.0"
  }
 },
 "nbformat": 4,
 "nbformat_minor": 4
}
