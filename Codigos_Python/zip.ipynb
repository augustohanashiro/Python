{
 "cells": [
  {
   "cell_type": "code",
   "execution_count": 1,
   "metadata": {},
   "outputs": [
    {
     "name": "stdout",
     "output_type": "stream",
     "text": [
      "[(1, 1), (2, 2), (3, 3), (4, 4), (5, 5), (6, 6), (7, 7), (8, 8), (9, 9)]\n"
     ]
    }
   ],
   "source": [
    "# Classe zip pega como parâmetro, duas listas, e transforma em um objeto zir\n",
    "# Ao fazer conversão para uma lista, ele transformará aquelas duas listas, em uma\n",
    "# lista de tuplas com elementos de mesmo indice\n",
    "\n",
    "l1 = [1,2,3,4,5,6,7,8,9]\n",
    "l2 = [1,2,3,4,5,6,7,8,9]\n",
    "\n",
    "l3 = list(zip(l1,l2))\n",
    "print(l3)"
   ]
  },
  {
   "cell_type": "code",
   "execution_count": 2,
   "metadata": {},
   "outputs": [
    {
     "name": "stdout",
     "output_type": "stream",
     "text": [
      "{1: 1, 2: 2, 3: 3, 4: 4, 5: 5, 6: 6, 7: 7, 8: 8, 9: 9}\n"
     ]
    }
   ],
   "source": [
    "'''\n",
    "Se convertemos um zip para um dict, a primeira lista sera a chave e a segunda o valor\n",
    "'''\n",
    "print(dict(l3))"
   ]
  }
 ],
 "metadata": {
  "kernelspec": {
   "display_name": "Python 3",
   "language": "python",
   "name": "python3"
  },
  "language_info": {
   "codemirror_mode": {
    "name": "ipython",
    "version": 3
   },
   "file_extension": ".py",
   "mimetype": "text/x-python",
   "name": "python",
   "nbconvert_exporter": "python",
   "pygments_lexer": "ipython3",
   "version": "3.11.3"
  }
 },
 "nbformat": 4,
 "nbformat_minor": 2
}
