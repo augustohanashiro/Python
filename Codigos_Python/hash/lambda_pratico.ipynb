{
 "cells": [
  {
   "cell_type": "markdown",
   "metadata": {},
   "source": [
    "# Principal Aplicação de Lambda Expressions\n",
    "\n",
    "### Usar lambda como argumento de alguma outra função, como map e filter"
   ]
  },
  {
   "cell_type": "code",
   "execution_count": 35,
   "metadata": {},
   "outputs": [
    {
     "name": "stdout",
     "output_type": "stream",
     "text": [
      "dict_values([2450, 4500, 3000, 1000, 3000, 1000, 3000, 3000, 800, 1700])\n"
     ]
    }
   ],
   "source": [
    "preco_tecnologia = {'notebook asus': 2450, 'iphone': 4500, 'samsung galaxy': 3000, 'tv samsung': 1000, 'ps5': 3000, 'tablet': 1000, 'notebook dell': 3000, 'ipad': 3000, 'tv philco': 800, 'notebook hp': 1700}"
   ]
  },
  {
   "cell_type": "markdown",
   "metadata": {},
   "source": [
    "### map()\n",
    "- Queremos saber o preço de cada produto adicionando o valor do imposto de 200% sobre o valor do produto"
   ]
  },
  {
   "cell_type": "code",
   "execution_count": 41,
   "metadata": {},
   "outputs": [
    {
     "name": "stdout",
     "output_type": "stream",
     "text": [
      "[4900, 9000, 6000, 2000, 6000, 2000, 6000, 6000, 1600, 3400]\n"
     ]
    }
   ],
   "source": [
    "#Fazendo por function\n",
    "def imposto(preco):\n",
    "    return preco*2\n",
    "\n",
    "print(list(map(imposto,preco_tecnologia.values())))\n",
    "# lista_precos = list(map(imposto,preco_tecnologia.values()))\n",
    "\n"
   ]
  },
  {
   "cell_type": "code",
   "execution_count": 34,
   "metadata": {},
   "outputs": [
    {
     "name": "stdout",
     "output_type": "stream",
     "text": [
      "[4900, 9000, 6000, 2000, 6000, 2000, 6000, 6000, 1600, 3400]\n"
     ]
    }
   ],
   "source": [
    "#fazendo por lambda\n",
    "print(list(map(lambda c: c*2,preco_tecnologia.values())))"
   ]
  },
  {
   "cell_type": "markdown",
   "metadata": {},
   "source": [
    "### filter()\n",
    "- Queremos apenas os produtos que custam acima de 2000\n",
    "- Na função filter, teremos os seguintes parâmetros:<br>\n",
    "`filter(funcao,iteravel)`\n",
    "- A função irá validar uma condição, se verdadeira, ira permanecer o item na lista, se falso, irá retirar o item"
   ]
  },
  {
   "cell_type": "raw",
   "metadata": {},
   "source": [
    "filter(função, iterable) -> retorna como resposta todos os itens do iterable onde a função é True"
   ]
  },
  {
   "cell_type": "code",
   "execution_count": 54,
   "metadata": {},
   "outputs": [
    {
     "name": "stdout",
     "output_type": "stream",
     "text": [
      "[('notebook asus', 2450), ('iphone', 4500), ('samsung galaxy', 3000), ('tv samsung', 1000), ('ps5', 3000), ('tablet', 1000), ('notebook dell', 3000), ('ipad', 3000), ('tv philco', 800), ('notebook hp', 1700)]\n",
      "[('notebook asus', 2450), ('iphone', 4500), ('samsung galaxy', 3000), ('ps5', 3000), ('notebook dell', 3000), ('ipad', 3000)]\n"
     ]
    }
   ],
   "source": [
    "#fazendo por function\n",
    "def maior_2000(item):\n",
    "    return item[1] > 2000\n",
    "\n",
    "print(list(preco_tecnologia.items())) #antes do filtro\n",
    "print(list(filter(maior_2000,preco_tecnologia.items()))) # depois do fitro\n"
   ]
  },
  {
   "cell_type": "code",
   "execution_count": 55,
   "metadata": {},
   "outputs": [
    {
     "data": {
      "text/plain": [
       "[('notebook asus', 2450),\n",
       " ('iphone', 4500),\n",
       " ('samsung galaxy', 3000),\n",
       " ('ps5', 3000),\n",
       " ('notebook dell', 3000),\n",
       " ('ipad', 3000)]"
      ]
     },
     "execution_count": 55,
     "metadata": {},
     "output_type": "execute_result"
    }
   ],
   "source": [
    "#fazendo por lambda\n",
    "list(filter(lambda c: c[1] >2000, preco_tecnologia.items()))"
   ]
  }
 ],
 "metadata": {
  "kernelspec": {
   "display_name": "Python 3",
   "language": "python",
   "name": "python3"
  },
  "language_info": {
   "codemirror_mode": {
    "name": "ipython",
    "version": 3
   },
   "file_extension": ".py",
   "mimetype": "text/x-python",
   "name": "python",
   "nbconvert_exporter": "python",
   "pygments_lexer": "ipython3",
   "version": "3.12.0"
  }
 },
 "nbformat": 4,
 "nbformat_minor": 4
}
