{
 "cells": [
  {
   "cell_type": "code",
   "execution_count": 2,
   "metadata": {},
   "outputs": [],
   "source": [
    "lista = [\"Tenis\", \"abacate\",\"Banana\",\"Televisao\",\"impressora\",\"Carro\", \"Bola\"]"
   ]
  },
  {
   "cell_type": "code",
   "execution_count": 5,
   "metadata": {},
   "outputs": [
    {
     "name": "stdout",
     "output_type": "stream",
     "text": [
      "['Banana', 'Bola', 'Carro', 'Televisao', 'Tenis', 'abacate', 'impressora']\n"
     ]
    }
   ],
   "source": [
    "lista.sort()\n",
    "print(lista)\n",
    "# Repare que ele vai colocar as letras maiusculas antes das minusculas, mesmo \n",
    "# as que vem antes, por conta da tabela ASCII\n",
    "# https://web.fe.up.pt/~ee96100/projecto/Tabela%20ascii.htm"
   ]
  },
  {
   "cell_type": "code",
   "execution_count": 6,
   "metadata": {},
   "outputs": [
    {
     "name": "stdout",
     "output_type": "stream",
     "text": [
      "['abacate', 'Banana', 'Bola', 'Carro', 'impressora', 'Televisao', 'Tenis']\n"
     ]
    }
   ],
   "source": [
    "# Portanto, vamos passar uma função para o sort que deixa todos os elementos \n",
    "# Com letra minuscula para podermos ordenar de forma correta\n",
    "# no caso, na função sort, o key seria como o map, ou seja, recebe como parametro\n",
    "# Quais são as funções que seram aplicadas em todos os iteraveis antes de orndenar\n",
    "\n",
    "lista.sort(key=str.casefold)\n",
    "print(lista)"
   ]
  },
  {
   "cell_type": "code",
   "execution_count": 27,
   "metadata": {},
   "outputs": [
    {
     "name": "stdout",
     "output_type": "stream",
     "text": [
      "[('sexta', '5'), ('bola', '9'), ('mouse', '1'), ('teste', '4'), ('haha', '8')]\n"
     ]
    }
   ],
   "source": [
    "biblioteca = {\n",
    "    \"sexta\":\"5\",\n",
    "    \"bola\":\"9\",\n",
    "    \"mouse\":\"1\",\n",
    "    \"teste\":\"4\",\n",
    "    \"haha\":\"8\",\n",
    "}\n",
    "# Para ordenar uma biblioteca, sempre iremos trabalhar com os itens\n",
    "biblioteca = list(biblioteca.items())\n",
    "print(biblioteca)"
   ]
  },
  {
   "cell_type": "code",
   "execution_count": 28,
   "metadata": {},
   "outputs": [
    {
     "name": "stdout",
     "output_type": "stream",
     "text": [
      "[('bola', '9'), ('haha', '8'), ('mouse', '1'), ('sexta', '5'), ('teste', '4')]\n"
     ]
    }
   ],
   "source": [
    "# Se tentarmos ordenar a lista de itens de uma biblioteca, sempre sera ordenado\n",
    "# pelas chaves\n",
    "biblioteca.sort()\n",
    "print(biblioteca)\n"
   ]
  },
  {
   "cell_type": "code",
   "execution_count": 29,
   "metadata": {},
   "outputs": [
    {
     "name": "stdout",
     "output_type": "stream",
     "text": [
      "[('mouse', '1'), ('teste', '4'), ('sexta', '5'), ('haha', '8'), ('bola', '9')]\n"
     ]
    }
   ],
   "source": [
    "# Para ordenarmos pelo valor, podemos criar uma função que retorna a chave\n",
    "# de todos os itens\n",
    "biblioteca.sort(key= lambda l: l[1])\n",
    "print(biblioteca)"
   ]
  },
  {
   "cell_type": "code",
   "execution_count": 30,
   "metadata": {},
   "outputs": [
    {
     "name": "stdout",
     "output_type": "stream",
     "text": [
      "8\n"
     ]
    }
   ],
   "source": [
    "teste = lambda a,b: a+b\n",
    "print(teste(2,6))"
   ]
  }
 ],
 "metadata": {
  "kernelspec": {
   "display_name": "Python 3",
   "language": "python",
   "name": "python3"
  },
  "language_info": {
   "codemirror_mode": {
    "name": "ipython",
    "version": 3
   },
   "file_extension": ".py",
   "mimetype": "text/x-python",
   "name": "python",
   "nbconvert_exporter": "python",
   "pygments_lexer": "ipython3",
   "version": "3.12.0"
  }
 },
 "nbformat": 4,
 "nbformat_minor": 2
}
